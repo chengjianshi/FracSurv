{
 "cells": [
  {
   "cell_type": "code",
   "execution_count": 48,
   "metadata": {},
   "outputs": [],
   "source": [
    "def create_xte(df):\n",
    "    x = df.drop(columns=[\"status\", \"time\"]).to_numpy()\n",
    "    t = df.time.to_numpy(dtype=int)\n",
    "    e = df.status.to_numpy(dtype=int)\n",
    "    return (x, t, e)"
   ]
  },
  {
   "cell_type": "code",
   "execution_count": 49,
   "metadata": {},
   "outputs": [],
   "source": [
    "x_train, t_train, e_train = create_xte(train_df)\n",
    "x_test, t_test, e_test = create_xte(test_df)\n",
    "# x_val, t_val, e_val = create_xte(val_df)"
   ]
  },
  {
   "cell_type": "code",
   "execution_count": 50,
   "metadata": {},
   "outputs": [
    {
     "data": {
      "text/plain": [
       "<HDF5 dataset \"e\": shape (20750,), type \"<i4\">"
      ]
     },
     "execution_count": 50,
     "metadata": {},
     "output_type": "execute_result"
    }
   ],
   "source": [
    "train_grp.create_dataset(\"x\", data = x_train,dtype = 'f4') \n",
    "train_grp.create_dataset(\"t\", data = t_train, dtype= 'f4')\n",
    "train_grp.create_dataset(\"e\", data = e_train, dtype='i4')"
   ]
  },
  {
   "cell_type": "code",
   "execution_count": 51,
   "metadata": {},
   "outputs": [
    {
     "data": {
      "text/plain": [
       "<HDF5 dataset \"e\": shape (5187,), type \"<i4\">"
      ]
     },
     "execution_count": 51,
     "metadata": {},
     "output_type": "execute_result"
    }
   ],
   "source": [
    "test_grp.create_dataset(\"x\", data = x_test, dtype='f4') \n",
    "test_grp.create_dataset(\"t\", data = t_test, dtype='f4')\n",
    "test_grp.create_dataset(\"e\", data = e_test, dtype='i4')"
   ]
  },
  {
   "cell_type": "code",
   "execution_count": 52,
   "metadata": {},
   "outputs": [],
   "source": [
    "f.close()"
   ]
  },
  {
   "cell_type": "code",
   "execution_count": null,
   "metadata": {},
   "outputs": [],
   "source": []
  }
 ],
 "metadata": {
  "interpreter": {
   "hash": "f50c219d22f3f057324e526c0d7cb8ba54e88346567a5d0b03417179fd03ff62"
  },
  "kernelspec": {
   "display_name": "Python 3.8.12 64-bit ('Fracture': conda)",
   "name": "python3"
  },
  "language_info": {
   "codemirror_mode": {
    "name": "ipython",
    "version": 3
   },
   "file_extension": ".py",
   "mimetype": "text/x-python",
   "name": "python",
   "nbconvert_exporter": "python",
   "pygments_lexer": "ipython3",
   "version": "3.8.12"
  },
  "orig_nbformat": 4
 },
 "nbformat": 4,
 "nbformat_minor": 2
}
