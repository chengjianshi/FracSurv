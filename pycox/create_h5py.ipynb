{
 "cells": [
  {
   "cell_type": "code",
   "execution_count": 1,
   "metadata": {},
   "outputs": [],
   "source": [
    "import h5py\n",
    "import pandas as pd\n",
    "\n",
    "from pathlib import Path\n",
    "from sklearn.model_selection import train_test_split\n",
    "\n",
    "data_path = \"/Users/cj/Documents/LAB/Project/Fracture/Fracture/surv/data/surv_data_MOF.csv\"\n",
    "\n",
    "df = pd.read_csv(data_path, index_col=\"studyid\")\n",
    "\n",
    "train = df.sample(frac=0.85)\n",
    "test = df.drop(index = train.index)\n"
   ]
  },
  {
   "cell_type": "code",
   "execution_count": 2,
   "metadata": {},
   "outputs": [],
   "source": [
    "def create_xte(df):\n",
    "    x = df.drop(columns=[\"status\", \"time\"]).to_numpy()\n",
    "    t = df.time.to_numpy(dtype=int)\n",
    "    e = df.status.to_numpy(dtype=int)\n",
    "    return (x, t, e)"
   ]
  },
  {
   "cell_type": "code",
   "execution_count": 3,
   "metadata": {},
   "outputs": [],
   "source": [
    "train = create_xte(train)\n",
    "test = create_xte(test)"
   ]
  },
  {
   "cell_type": "code",
   "execution_count": 4,
   "metadata": {},
   "outputs": [],
   "source": [
    "saved_file = Path(\"./data/mof_85.h5\")\n",
    "\n",
    "with h5py.File(saved_file, \"w\") as f:\n",
    "    train_grp = f.create_group(\"train\")\n",
    "    test_grp = f.create_group(\"test\")\n",
    "    \n",
    "    train_grp.create_dataset(\"x\", data = train[0],dtype = 'f4') \n",
    "    train_grp.create_dataset(\"t\", data = train[1], dtype= 'f4')\n",
    "    train_grp.create_dataset(\"e\", data = train[2], dtype='i4')\n",
    "    \n",
    "    test_grp.create_dataset(\"x\", data = test[0], dtype='f4') \n",
    "    test_grp.create_dataset(\"t\", data = test[1], dtype='f4')\n",
    "    test_grp.create_dataset(\"e\", data = test[2], dtype='i4')"
   ]
  },
  {
   "cell_type": "code",
   "execution_count": null,
   "metadata": {},
   "outputs": [],
   "source": []
  }
 ],
 "metadata": {
  "interpreter": {
   "hash": "0a61073d7746532ba18f87dcfca38495c43cd8356d39ec8a84a0f7493279d566"
  },
  "kernelspec": {
   "display_name": "Python 3.9.12 64-bit ('pycox': conda)",
   "name": "python3"
  },
  "language_info": {
   "codemirror_mode": {
    "name": "ipython",
    "version": 3
   },
   "file_extension": ".py",
   "mimetype": "text/x-python",
   "name": "python",
   "nbconvert_exporter": "python",
   "pygments_lexer": "ipython3",
   "version": "3.9.12"
  }
 },
 "nbformat": 4,
 "nbformat_minor": 2
}
